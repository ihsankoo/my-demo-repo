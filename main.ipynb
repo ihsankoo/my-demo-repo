{
 "cells": [
  {
   "cell_type": "code",
   "execution_count": 1,
   "metadata": {},
   "outputs": [
    {
     "name": "stdout",
     "output_type": "stream",
     "text": [
      " >>>>>>>>>\n",
      "  >>>>>>>>>\n",
      "   >>>>>>>>>\n",
      "    >>>>>>>>>\n",
      "     >>>>>>>>>\n",
      "      >>>>>>>>>\n",
      "       >>>>>>>>>\n",
      "        >>>>>>>>>\n",
      "         >>>>>>>>>\n",
      "          >>>>>>>>>\n",
      "          >>>>>>>>>\n",
      "         >>>>>>>>>\n",
      "        >>>>>>>>>\n",
      "       >>>>>>>>>\n",
      "      >>>>>>>>>\n",
      "     >>>>>>>>>\n",
      "    >>>>>>>>>\n",
      "   >>>>>>>>>\n",
      "  >>>>>>>>>\n",
      " >>>>>>>>>\n"
     ]
    }
   ],
   "source": [
    "#Create Clarusway's logo using nested loop '>'\n",
    "\n",
    "for i in range(0, 10):\n",
    "    for j in range(0, 1+i):\n",
    "        print(\" \", end = \"\")\n",
    "    for k in range(0, 9):\n",
    "        print(\">\", end = \"\")\n",
    "    print(\"\")\n",
    "for l in range(0, 10):\n",
    "    for m in range(0, 10-l):\n",
    "        print(\" \", end = \"\")\n",
    "    for n in range(0, 9):\n",
    "        print(\">\", end = \"\")\n",
    "    print(\"\")        "
   ]
  }
 ],
 "metadata": {
  "kernelspec": {
   "display_name": "Python 3.10.7 64-bit",
   "language": "python",
   "name": "python3"
  },
  "language_info": {
   "codemirror_mode": {
    "name": "ipython",
    "version": 3
   },
   "file_extension": ".py",
   "mimetype": "text/x-python",
   "name": "python",
   "nbconvert_exporter": "python",
   "pygments_lexer": "ipython3",
   "version": "3.10.7"
  },
  "orig_nbformat": 4,
  "vscode": {
   "interpreter": {
    "hash": "abc9f0dd0ffac45a9912e94ad5b8d3e0f232df9541588b2674991d5114e9852d"
   }
  }
 },
 "nbformat": 4,
 "nbformat_minor": 2
}
